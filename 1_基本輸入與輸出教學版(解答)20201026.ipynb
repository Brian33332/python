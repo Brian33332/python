{
  "nbformat": 4,
  "nbformat_minor": 0,
  "metadata": {
    "colab": {
      "name": "1_基本輸入與輸出教學版(解答)20201026.ipynb",
      "provenance": [],
      "collapsed_sections": [],
      "include_colab_link": true
    },
    "kernelspec": {
      "name": "python3",
      "display_name": "Python 3"
    }
  },
  "cells": [
    {
      "cell_type": "markdown",
      "metadata": {
        "id": "view-in-github",
        "colab_type": "text"
      },
      "source": [
        "<a href=\"https://colab.research.google.com/github/Brian33332/python/blob/main/1_%E5%9F%BA%E6%9C%AC%E8%BC%B8%E5%85%A5%E8%88%87%E8%BC%B8%E5%87%BA%E6%95%99%E5%AD%B8%E7%89%88(%E8%A7%A3%E7%AD%94)20201026.ipynb\" target=\"_parent\"><img src=\"https://colab.research.google.com/assets/colab-badge.svg\" alt=\"Open In Colab\"/></a>"
      ]
    },
    {
      "cell_type": "markdown",
      "metadata": {
        "id": "VX6gcJJH7jbu"
      },
      "source": [
        "#黃柏峻在崑山科技大學受恩師龍大大洗禮\n",
        "20201026\n",
        "\n",
        "*   清單項目\n",
        "*   清單項目\n",
        "\n"
      ]
    },
    {
      "cell_type": "code",
      "metadata": {
        "id": "Dbwh-fEuaFQ8"
      },
      "source": [
        ""
      ],
      "execution_count": null,
      "outputs": []
    },
    {
      "cell_type": "markdown",
      "metadata": {
        "id": "0ynE7xesLMzb"
      },
      "source": [
        "# 1.基本輸入與輸出"
      ]
    },
    {
      "cell_type": "markdown",
      "metadata": {
        "id": "FHYKyUOzCNGB"
      },
      "source": [
        "```\n",
        "標準輸入(stdin)與標準輸出(stdout)\n",
        "   python輸入:input()\n",
        "   python輸出: print()\n",
        "```\n",
        "```\n",
        "自主學習主題\n",
        "   python格式化輸出技術\n",
        "```\n",
        "```\n",
        "進階學習主題:\n",
        "[10]讀取檔案(txt,csv,xslx,json,...)與輸出到檔案\n",
        "[20]資料庫讀取與輸出\n",
        "```\n",
        "# 基礎輸入與輸出(Basic Input and Output)\n",
        "\n",
        "## 基本輸入:讀取使用者的輸入\n",
        "\n",
        "```\n",
        "使用input時，會從標準輸入(stdin)中讀取輸入資料\n",
        "這些資料是string字串型態{重要}\n",
        "stdin==Standard Input\n",
        "```"
      ]
    },
    {
      "cell_type": "markdown",
      "metadata": {
        "id": "qE6a1xH9C98b"
      },
      "source": [
        "\n",
        "執行底下程式看看:\n",
        "```\n",
        "# -*- coding: utf-8 -*-\n",
        "x = input('Enter your name:')\n",
        "print('Hello, ' + x)\n",
        "\n",
        "a = input(\"請輸入：\")\n",
        "a\n",
        "```\n"
      ]
    },
    {
      "cell_type": "code",
      "metadata": {
        "id": "-Q2W3d0IEHV2",
        "outputId": "07c4042e-fd36-427f-bf41-2d610e6abcef",
        "colab": {
          "base_uri": "https://localhost:8080/",
          "height": 51
        }
      },
      "source": [
        "# -*- coding: utf-8 -*-\n",
        "x = input('Enter your name:')\n",
        "print('Hello, ' + x)"
      ],
      "execution_count": 1,
      "outputs": [
        {
          "output_type": "stream",
          "text": [
            "Enter your name:ASD\n",
            "Hello, ASD\n"
          ],
          "name": "stdout"
        }
      ]
    },
    {
      "cell_type": "code",
      "metadata": {
        "id": "fMTfm4KuS84L",
        "outputId": "5ae28c77-6f37-4035-aba4-b1de36e60cd5",
        "colab": {
          "base_uri": "https://localhost:8080/",
          "height": 52
        }
      },
      "source": [
        "a = input(\"請輸入：\")\n",
        "a\n"
      ],
      "execution_count": 2,
      "outputs": [
        {
          "output_type": "stream",
          "text": [
            "請輸入：100\n"
          ],
          "name": "stdout"
        },
        {
          "output_type": "execute_result",
          "data": {
            "application/vnd.google.colaboratory.intrinsic+json": {
              "type": "string"
            },
            "text/plain": [
              "'100'"
            ]
          },
          "metadata": {
            "tags": []
          },
          "execution_count": 2
        }
      ]
    },
    {
      "cell_type": "markdown",
      "metadata": {
        "id": "25eyt1w9Diik"
      },
      "source": [
        "###  使用Python內建的type()函數顯示資料型態\n",
        "\n",
        "底下程式執行後結果為何?\n",
        "```\n",
        "type(a)\n",
        "```"
      ]
    },
    {
      "cell_type": "code",
      "metadata": {
        "id": "xdaXbVPETY6S",
        "outputId": "189b3438-aa6d-44a3-eb81-c0491bb4e45c",
        "colab": {
          "base_uri": "https://localhost:8080/",
          "height": 34
        }
      },
      "source": [
        "type(a)"
      ],
      "execution_count": 3,
      "outputs": [
        {
          "output_type": "execute_result",
          "data": {
            "text/plain": [
              "str"
            ]
          },
          "metadata": {
            "tags": []
          },
          "execution_count": 3
        }
      ]
    },
    {
      "cell_type": "markdown",
      "metadata": {
        "id": "BMuWFMZqDtKG"
      },
      "source": [
        "### 程式錯誤與更正\n",
        "```\n",
        "小明明正在學習python程式\n",
        "\n",
        "老師出了一題\n",
        "要輸入一個整數分數\n",
        "然後加15後\n",
        "輸出最後答案\n",
        "\n",
        "底下是小明明的python程式\n",
        "請指出底下的錯誤並更正\n",
        "```\n",
        "#### 小明明的python程式 執行後結果為何?\n",
        "```\n",
        "a = input(\"請輸入：\")\n",
        "a\n",
        "\n",
        "b = a+15\n",
        "b\n",
        "```\n"
      ]
    },
    {
      "cell_type": "code",
      "metadata": {
        "id": "v9SqEw1RUceM",
        "outputId": "269f1d71-7dac-4b1d-e421-c323ae1b60a3",
        "colab": {
          "base_uri": "https://localhost:8080/",
          "height": 52
        }
      },
      "source": [
        "a = input(\"請輸入：\")\n",
        "a\n"
      ],
      "execution_count": 6,
      "outputs": [
        {
          "output_type": "stream",
          "text": [
            "請輸入：65\n"
          ],
          "name": "stdout"
        },
        {
          "output_type": "execute_result",
          "data": {
            "application/vnd.google.colaboratory.intrinsic+json": {
              "type": "string"
            },
            "text/plain": [
              "'65'"
            ]
          },
          "metadata": {
            "tags": []
          },
          "execution_count": 6
        }
      ]
    },
    {
      "cell_type": "code",
      "metadata": {
        "id": "EyxqBiFoU3-C",
        "outputId": "ebeb49d6-2d8f-4868-958f-fc427168786c",
        "colab": {
          "base_uri": "https://localhost:8080/",
          "height": 182
        }
      },
      "source": [
        "b = a+15\n",
        "b\n"
      ],
      "execution_count": 7,
      "outputs": [
        {
          "output_type": "error",
          "ename": "TypeError",
          "evalue": "ignored",
          "traceback": [
            "\u001b[0;31m---------------------------------------------------------------------------\u001b[0m",
            "\u001b[0;31mTypeError\u001b[0m                                 Traceback (most recent call last)",
            "\u001b[0;32m<ipython-input-7-85fa82382e69>\u001b[0m in \u001b[0;36m<module>\u001b[0;34m()\u001b[0m\n\u001b[0;32m----> 1\u001b[0;31m \u001b[0mb\u001b[0m \u001b[0;34m=\u001b[0m \u001b[0ma\u001b[0m\u001b[0;34m+\u001b[0m\u001b[0;36m15\u001b[0m\u001b[0;34m\u001b[0m\u001b[0;34m\u001b[0m\u001b[0m\n\u001b[0m\u001b[1;32m      2\u001b[0m \u001b[0mb\u001b[0m\u001b[0;34m\u001b[0m\u001b[0;34m\u001b[0m\u001b[0m\n",
            "\u001b[0;31mTypeError\u001b[0m: must be str, not int"
          ]
        }
      ]
    },
    {
      "cell_type": "markdown",
      "metadata": {
        "id": "RIDe5YfG_teI"
      },
      "source": [
        "```\n",
        "TypeError :資料型態(data type)錯誤\n",
        "```"
      ]
    },
    {
      "cell_type": "markdown",
      "metadata": {
        "id": "LAh1-HGmEKMo"
      },
      "source": [
        "#### 更正的 小明明python程式\n",
        "```\n",
        "如何讀取使用者輸入的整數===>使用eval()函數\n",
        "            ===>也可以使用int()函數\n",
        "```\n",
        "底下程式執行後結果為何?\n",
        "```\n",
        "a = eval(input(\"請輸入：\"))\n",
        "a\n",
        "type(a)\n",
        "```"
      ]
    },
    {
      "cell_type": "code",
      "metadata": {
        "id": "rmIs1etnUhXE",
        "outputId": "495c6d3e-e69e-45b6-ea27-e0587d32e61e",
        "colab": {
          "base_uri": "https://localhost:8080/",
          "height": 51
        }
      },
      "source": [
        "a = eval(input(\"請輸入：\"))\n",
        "a"
      ],
      "execution_count": 8,
      "outputs": [
        {
          "output_type": "stream",
          "text": [
            "請輸入：65\n"
          ],
          "name": "stdout"
        },
        {
          "output_type": "execute_result",
          "data": {
            "text/plain": [
              "65"
            ]
          },
          "metadata": {
            "tags": []
          },
          "execution_count": 8
        }
      ]
    },
    {
      "cell_type": "code",
      "metadata": {
        "id": "TkOVZfXKVNOY",
        "outputId": "541d779b-3a24-4446-a097-9be862136482",
        "colab": {
          "base_uri": "https://localhost:8080/",
          "height": 34
        }
      },
      "source": [
        "type(a)\n"
      ],
      "execution_count": 9,
      "outputs": [
        {
          "output_type": "execute_result",
          "data": {
            "text/plain": [
              "int"
            ]
          },
          "metadata": {
            "tags": []
          },
          "execution_count": 9
        }
      ]
    },
    {
      "cell_type": "markdown",
      "metadata": {
        "id": "lcfO6SimMzIm"
      },
      "source": [
        "寫下你更正的答案:"
      ]
    },
    {
      "cell_type": "code",
      "metadata": {
        "id": "QELz_avIVvhT",
        "outputId": "81ab2359-d707-46d7-b4e0-2560a3313421",
        "colab": {
          "base_uri": "https://localhost:8080/",
          "height": 51
        }
      },
      "source": [
        "a = int(input(\"請輸入：\"))\n",
        "b = a + 15\n",
        "b\n"
      ],
      "execution_count": 12,
      "outputs": [
        {
          "output_type": "stream",
          "text": [
            "請輸入：65\n"
          ],
          "name": "stdout"
        },
        {
          "output_type": "execute_result",
          "data": {
            "text/plain": [
              "80"
            ]
          },
          "metadata": {
            "tags": []
          },
          "execution_count": 12
        }
      ]
    },
    {
      "cell_type": "markdown",
      "metadata": {
        "id": "ojFW3LYnAhM_"
      },
      "source": [
        "#### 超級重要:一次輸入多（兩）個資料\n",
        "\n",
        "底下程式執行後結果為何?\n",
        "```\n",
        "a,b = eval(input(\"請輸入兩個數位：\"))\n",
        "a,b\n",
        "```"
      ]
    },
    {
      "cell_type": "code",
      "metadata": {
        "id": "qW_5bsLxVPNa",
        "outputId": "df1999d4-df1a-4b6a-dd80-7bc6d49694b1",
        "colab": {
          "base_uri": "https://localhost:8080/",
          "height": 148
        }
      },
      "source": [
        "a,b = eval(input(\"請輸入兩個數位：\"))\n",
        "\n",
        "a,b"
      ],
      "execution_count": 10,
      "outputs": [
        {
          "output_type": "stream",
          "text": [
            "請輸入兩個數位：25 30\n"
          ],
          "name": "stdout"
        },
        {
          "output_type": "error",
          "ename": "SyntaxError",
          "evalue": "ignored",
          "traceback": [
            "\u001b[0;36m  File \u001b[0;32m\"<string>\"\u001b[0;36m, line \u001b[0;32m1\u001b[0m\n\u001b[0;31m    25 30\u001b[0m\n\u001b[0m        ^\u001b[0m\n\u001b[0;31mSyntaxError\u001b[0m\u001b[0;31m:\u001b[0m unexpected EOF while parsing\n"
          ]
        }
      ]
    },
    {
      "cell_type": "code",
      "metadata": {
        "id": "E9X6lMe6VXcO",
        "outputId": "4f7d98da-14fc-44ec-b395-d224bfd3e5c0",
        "colab": {
          "base_uri": "https://localhost:8080/",
          "height": 148
        }
      },
      "source": [
        "a,b = eval(input(\"請輸入兩個數位：\"))\n",
        "\n",
        "a,b\n"
      ],
      "execution_count": 13,
      "outputs": [
        {
          "output_type": "stream",
          "text": [
            "請輸入兩個數位：25 30\n"
          ],
          "name": "stdout"
        },
        {
          "output_type": "error",
          "ename": "SyntaxError",
          "evalue": "ignored",
          "traceback": [
            "\u001b[0;36m  File \u001b[0;32m\"<string>\"\u001b[0;36m, line \u001b[0;32m1\u001b[0m\n\u001b[0;31m    25 30\u001b[0m\n\u001b[0m        ^\u001b[0m\n\u001b[0;31mSyntaxError\u001b[0m\u001b[0;31m:\u001b[0m unexpected EOF while parsing\n"
          ]
        }
      ]
    }
  ]
}